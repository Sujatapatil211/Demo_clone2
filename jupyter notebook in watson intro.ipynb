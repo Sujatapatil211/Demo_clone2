{
    "cells": [
        {
            "cell_type": "code",
            "execution_count": 1,
            "metadata": {},
            "outputs": [
                {
                    "name": "stdout",
                    "output_type": "stream",
                    "text": "Waiting for a Spark session to start...\nSpark Initialization Done! ApplicationId = app-20220128102637-0000\nKERNEL_ID = e7b2f41c-2940-4dfd-8b2a-06143a05243f\n"
                },
                {
                    "data": {
                        "text/plain": "[Row(YearsExperience='1.1', Salary='39343.00'),\n Row(YearsExperience='1.3', Salary='46205.00'),\n Row(YearsExperience='1.5', Salary='37731.00'),\n Row(YearsExperience='2.0', Salary='43525.00'),\n Row(YearsExperience='2.2', Salary='39891.00')]"
                    },
                    "execution_count": 1,
                    "metadata": {},
                    "output_type": "execute_result"
                }
            ],
            "source": "# The code was removed by Watson Studio for sharing."
        },
        {
            "cell_type": "code",
            "execution_count": null,
            "metadata": {},
            "outputs": [],
            "source": ""
        }
    ],
    "metadata": {
        "kernelspec": {
            "display_name": "Python 3.7 with Spark",
            "language": "python3",
            "name": "python37"
        },
        "language_info": {
            "codemirror_mode": {
                "name": "ipython",
                "version": 3
            },
            "file_extension": ".py",
            "mimetype": "text/x-python",
            "name": "python",
            "nbconvert_exporter": "python",
            "pygments_lexer": "ipython3",
            "version": "3.7.11"
        }
    },
    "nbformat": 4,
    "nbformat_minor": 1
}